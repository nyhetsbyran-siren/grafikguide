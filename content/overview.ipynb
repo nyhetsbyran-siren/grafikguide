{
 "cells": [
  {
   "cell_type": "markdown",
   "metadata": {},
   "source": [
    "# Grafik med R och ggplot2\n",
    "\n",
    "För att alla på redaktionen ska kunna göra grafik har vi ett antal skript för olika typer av data och diagram. \n",
    "\n",
    "Skripten kan köras som de är, med bara ett par få ändringar av till exempel rubriker, informationstext och källhänvisning. \n",
    "\n",
    "Skripten körs i R-terminalen.\n",
    "\n",
    "**Kapitel 1: Förberedelser** beskriver kort vilka förberedelser som krävs för att köra diagramskripten.\n",
    "\n",
    "**Kapitel 2: Diagram** visar olika typer av diagram.\n",
    "\n",
    "**Kapitel 3: Ändra i diagrammen** tar upp saker som en kan vilja ändra på i diagrammen, och hur en då går tillväga."
   ]
  },
  {
   "cell_type": "code",
   "execution_count": null,
   "metadata": {},
   "outputs": [],
   "source": []
  }
 ],
 "metadata": {
  "kernelspec": {
   "display_name": "R",
   "language": "R",
   "name": "ir"
  },
  "language_info": {
   "codemirror_mode": "r",
   "file_extension": ".r",
   "mimetype": "text/x-r-source",
   "name": "R",
   "pygments_lexer": "r",
   "version": "3.6.2"
  }
 },
 "nbformat": 4,
 "nbformat_minor": 2
}
