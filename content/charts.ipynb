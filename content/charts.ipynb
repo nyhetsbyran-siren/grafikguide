{
 "cells": [
  {
   "cell_type": "markdown",
   "metadata": {},
   "source": [
    "# Diagram\n",
    "Här är några av de vanligaste diagrammen som vi använder oss av.\n",
    "\n",
    "## Stapeldiagram"
   ]
  },
  {
   "cell_type": "code",
   "execution_count": null,
   "metadata": {},
   "outputs": [],
   "source": [
    "#Läs in data\n",
    "df1 <- read_excel(here(\"raw_data\", \"lankommun.xlsx\"), sheet=1, skip=0)\n",
    "df2 <- read_excel(here(\"raw_data\", \"elevhalsa.xlsx\"), sheet=1, skip=4)\n",
    "df3 <- left_join(df1, df2, by=\"Kommun\")\n",
    "\n",
    "#Lista med länsnamnen\n",
    "lista_lan <- c(\"Blekinge län\", \"Dalarnas län\", \"Gotlands län\", \"Gävleborgs län\", \"Hallands län\", \"Jämtlands län\", \"Jönköpings län\", \"Kalmar län\", \"Kronobergs län\", \"Norrbottens län\", \"Skåne län\", \"Stockholms län\", \"Södermanlands län\", \"Uppsala län\", \"Värmlands län\", \"Västerbottens län\", \"Västernorrlands län\", \"Västmanlands län\", \"Västra Götalands län\", \"Örebro län\", \"Östergötlands län\")\n",
    "\n",
    "#Plotta länsdiagram\n",
    "for (i in lista_lan) {\n",
    "    chart <- df3 %>% \n",
    "    drop_na() %>%\n",
    "    filter(Län == i | Län == \"Riket\") %>%\n",
    "    mutate(highlight_flag = ifelse(Län==\"Riket\", T, F)) %>% \n",
    "    ggplot(aes(x=Kommun, y=Kostnad)) +\n",
    "    geom_bar(stat=\"identity\", width = 0.8, aes(fill=highlight_flag), show.legend=FALSE) +\n",
    "    labs(x=\"\", \n",
    "         y=\"Kronor per elev\", \n",
    "         title=\"Så mycket kostar elevhälsan i kommunala grundskolan\", \n",
    "         subtitle=\"Siffrorna gäller 2018\", \n",
    "         caption=\"Källa: Skolverket. Grafik: Nyhetsbyrån Siren.\") +\n",
    "    scale_fill_manual(values=palett1) +\n",
    "    theme_siren()\n",
    "    ggsave(filename=paste0(i, \".png\"), path=here(\"output_data\"), height=(400/72), width=(600/72))\n",
    "    print(chart)\n",
    "}"
   ]
  },
  {
   "cell_type": "markdown",
   "metadata": {},
   "source": [
    "![Blekinge](images/Blekinge.png)"
   ]
  },
  {
   "cell_type": "markdown",
   "metadata": {},
   "source": [
    "## Liggande staplar\n",
    "För att göra liggande staplar behöver man bara lägga till `coord_flip()` i stapeldiagram-koden."
   ]
  },
  {
   "cell_type": "code",
   "execution_count": null,
   "metadata": {},
   "outputs": [],
   "source": [
    "#Läs in och förbered data\n",
    "df <- read_excel(here(\"raw_data\", \"uppkorning.xlsx\"), sheet=1, skip=0)\n",
    "riks <- df %>% arrange(desc(`Antal försök`)) %>% head(10) %>% select(-Län)\n",
    "\n",
    "#Plotta riksdiagram\n",
    "chart <- riks %>%\n",
    "    ggplot(aes(x=reorder(Kommun, `Antal försök`), y=`Antal försök`)) +\n",
    "    geom_bar(stat=\"identity\", width = 0.8, fill=\"#dc282c\") +\n",
    "    labs(x=\"\", y=\"Antal uppkörningar\",\n",
    "       title=\"Personerna som har kört upp flest gånger i Sverige\",\n",
    "       subtitle=\"Gäller förarprov för B-körkort genomförda på Trafikverket\\nunder perioden 1 januari 2013 till 11 oktober 2019\",\n",
    "       caption=\"Källa: Trafikverket. Grafik: Nyhetsbyrån Siren.\") +\n",
    "    coord_flip() +\n",
    "    theme_siren()\n",
    "    ggsave(here(\"output_data\", \"Riket.png\"), height = (400/72), width = (600/72))\n",
    "print(chart)"
   ]
  },
  {
   "cell_type": "markdown",
   "metadata": {},
   "source": [
    "![kuggade](images/kuggade.png)"
   ]
  },
  {
   "cell_type": "markdown",
   "metadata": {},
   "source": [
    "## Grupperade staplar\n",
    "Med ett grupperat stapeldiagram kan man visa flera värden, till exempel per åklagarkammare. Excelfilen ser ut så här:\n",
    "![aklagare](images/aklagare.png)"
   ]
  },
  {
   "cell_type": "code",
   "execution_count": null,
   "metadata": {},
   "outputs": [],
   "source": [
    "#Förbered data\n",
    "df1 <- read_excel(here(\"raw_data\", \"kontakt.xlsx\"), sheet=1, skip=4)\n",
    "df2 <- df1 %>% melt(\"Åklagarkammare\")\n",
    "lista_kammare <- c(\"Borås\", \"City\", \"Eskilstuna\", \"Falun\", \"Gävle\", \"Göteborg\", \"Halmstad\", \"Helsingborg\", \"Jönköping\", \"Kalmar\", \"Karlskrona\", \"Karlstad\", \"Kristianstad\", \"Linköping\", \"Luleå\", \"Malmö\", \"Norrköping\", \"Norrort\", \"Nyköping\", \"Skövde\", \"Sundsvall\", \"Söderort\", \"Södertörn\", \"Södra Skåne\", \"Uddevalla\", \"Umeå\", \"Uppsala\", \"Västerort\", \"Västerås\", \"Växjö\", \"Örebro\", \"Östersund\")\n",
    "\n",
    "#Plotta diagram per åklagarkammare\n",
    "for (i in lista_kammare) {\n",
    "  chart <- df2 %>% filter(Åklagarkammare == i) %>%\n",
    "    ggplot(aes(x=Åklagarkammare, y=value, fill=as.factor(variable))) +\n",
    "    geom_bar(stat = \"identity\", position = \"dodge\") +\n",
    "    labs(x=\"\", y=\"Antal ärenden\", title=paste0(\"Beslut om kontaktförbud 2018 i \", i), subtitle=\"Antal beslut om kontaktförbud som har beviljats, fått avslag \\neller har avskrivits i åklagarkammaren under 2018.\", caption=\"Källa: Åklagarmyndigheten. Grafik: Nyhetsbyrån Siren.\") +\n",
    "  ggsave(filename=paste0(i, \".png\"), path=here(\"output_data\"), height = (400/72), width = (600/72))\n",
    "  print(chart)\n",
    "}"
   ]
  },
  {
   "cell_type": "markdown",
   "metadata": {},
   "source": [
    "![Halmstad](images/Halmstad.png)"
   ]
  },
  {
   "cell_type": "markdown",
   "metadata": {},
   "source": [
    "## Skiktade staplar"
   ]
  },
  {
   "cell_type": "code",
   "execution_count": null,
   "metadata": {},
   "outputs": [],
   "source": [
    "#Läs in och förbered data\n",
    "df1 <- read_excel(here(\"raw_data\", \"lankommun.xlsx\"), sheet=1, skip=0)\n",
    "df2 <- read_excel(here(\"raw_data\", \"chef.xlsx\"), sheet=1, skip=4)\n",
    "df3 <- left_join(df1, df2, by=\"Kommun\")\n",
    "df4 <- gather(df3, \"Kön\", \"Procent\", 3:4)\n",
    "\n",
    "#Lista med länsnamn\n",
    "lista_lan <- c(\"Blekinge län\", \"Dalarnas län\", \"Gotlands län\", \"Gävleborgs län\", \"Hallands län\", \"Jämtlands län\", \"Jönköpings län\", \"Kalmar län\", \"Kronobergs län\", \"Norrbottens län\", \"Skåne län\", \"Stockholms län\", \"Södermanlands län\", \"Uppsala län\", \"Värmlands län\", \"Västerbottens län\", \"Västernorrlands län\", \"Västmanlands län\", \"Västra Götalands län\", \"Örebro län\", \"Östergötlands län\")\n",
    "\n",
    "#Plotta länsdiagram\n",
    "for (i in lista_lan) {\n",
    "  chart <- df4 %>% filter(Län == i | Län == \"Riket\") %>%\n",
    "    ggplot(aes(x=Kommun, fill=Kön, y=Procent)) +\n",
    "    geom_bar(stat=\"identity\", position=\"fill\", width=0.8) +\n",
    "    labs(x=\"\", y=\"Andel (%)\", title=\"Andel kvinnor och män i chefsposition 2017\", subtitle=\"Statistiken gäller förvärvsarbetande anställda 16-64 år, dagbefattning. \\nExklusive politiker, högre ämbetsmän och VD:ar.\", caption=\"Källa: SCB. Grafik: Nyhetsbyrån Siren.\") +\n",
    "    scale_fill_manual(values=palett1) +\n",
    "    scale_y_continuous(labels = scales::percent_format(accuracy = 1)) +\n",
    "    theme_siren() +\n",
    "  ggsave(filename=paste0(i, \".png\"), path=here(\"output_data\"), height = (400/72), width = (600/72))\n",
    "  print(chart)\n",
    "}"
   ]
  },
  {
   "cell_type": "markdown",
   "metadata": {},
   "source": [
    "![skiktade](images/skiktade.png)"
   ]
  },
  {
   "cell_type": "markdown",
   "metadata": {},
   "source": [
    "## Linjediagram"
   ]
  },
  {
   "cell_type": "code",
   "execution_count": null,
   "metadata": {},
   "outputs": [],
   "source": [
    "#Förbered data\n",
    "df1 <- read_excel(here(\"raw_data\", \"varsel.xlsx\"), sheet=1, skip=0)\n",
    "lansdata <- gather(df1, \"År\", \"Antal personer\", 2:13)\n",
    "lista_lan <- c(\"Blekinge län\", \"Dalarnas län\", \"Gotlands län\", \"Gävleborgs län\", \"Hallands län\", \"Jämtlands län\", \"Jönköpings län\", \"Kalmar län\", \"Kronobergs län\", \"Norrbottens län\", \"Skåne län\", \"Stockholms län\", \"Södermanlands län\", \"Uppsala län\", \"Värmlands län\", \"Västerbottens län\", \"Västernorrlands län\", \"Västmanlands län\", \"Västra Götalands län\", \"Örebro län\", \"Östergötlands län\")\n",
    "\n",
    "#Plotta diagram\n",
    "for (i in lista_lan) {\n",
    "chart <- lansdata %>% filter(Län == i) %>% \n",
    "  ggplot(aes(x=År, y=`Antal personer`, colour=Län, group=Län)) +\n",
    "  geom_line(size=2, show.legend=FALSE) +\n",
    "  geom_hline(yintercept = 0, size = 0.3) +\n",
    "  labs(x=\"\", y=\"Antal personer\", title=paste0(\"Varsel om uppsägning i \", i), subtitle=\"Antal personer berörda av varsel om uppsägning per år.\", caption=\"Källa: Arbetsförmedlingen. Grafik: Nyhetsbyrån Siren.\") +\n",
    "  scale_colour_manual(values=palett1) +\n",
    "  theme_siren()\n",
    "ggsave(filename=paste0(i, \".png\"), path=here(\"output_data\"), height = (400/72), width = (600/72))\n",
    "print(chart)\n",
    "}"
   ]
  },
  {
   "cell_type": "markdown",
   "metadata": {},
   "source": [
    "![linje](images/linje.png)"
   ]
  },
  {
   "cell_type": "markdown",
   "metadata": {},
   "source": [
    "## Flera linjer"
   ]
  },
  {
   "cell_type": "code",
   "execution_count": null,
   "metadata": {},
   "outputs": [],
   "source": [
    "#Förbered data\n",
    "df1 <- read_excel(here(\"raw_data\", \"triptan.xlsx\"), sheet=1, skip=1)\n",
    "lista_lan <- c(\"Blekinge län\", \"Dalarnas län\", \"Gotlands län\", \"Gävleborgs län\", \"Hallands län\", \"Jämtlands län\", \"Jönköpings län\", \"Kalmar län\", \"Kronobergs län\", \"Norrbottens län\", \"Skåne län\", \"Stockholms län\", \"Södermanlands län\", \"Uppsala län\", \"Värmlands län\", \"Västerbottens län\", \"Västernorrlands län\", \"Västmanlands län\", \"Västra Götalands län\", \"Örebro län\", \"Östergötlands län\")\n",
    "\n",
    "#Plotta diagram\n",
    "for (i in lista_lan) {\n",
    "  chart <- df1 %>% filter(Region == i | Region == \"Riket\") %>% \n",
    "    ggplot(aes(x=År, y=`Patienter/1000 invånare`, colour=Region, group=Region)) +\n",
    "    geom_line(size=2) +\n",
    "    geom_hline(yintercept = 0, size = 0.3) +\n",
    "    labs(x=\"\", y=\"Patienter/1000 invånare\", title=paste0(\"Patienter som har fått triptaner mot migrän i \", i), subtitle=\"Läkemedel som har hämtats ut mot recept på apotek.\", caption=\"Källa: Socialstyrelsen. Grafik: Nyhetsbyrån Siren.\") +\n",
    "    scale_colour_manual(values=palett5) +\n",
    "    theme_siren()\n",
    "  ggsave(filename=paste0(i, \".png\"), path=here(\"output_data\"), height = (400/72), width = (600/72))\n",
    "  print(chart)\n",
    "}"
   ]
  },
  {
   "cell_type": "markdown",
   "metadata": {},
   "source": [
    "![fleralinjer](images/fleralinjer.png)"
   ]
  }
 ],
 "metadata": {
  "kernelspec": {
   "display_name": "R",
   "language": "R",
   "name": "ir"
  },
  "language_info": {
   "codemirror_mode": "r",
   "file_extension": ".r",
   "mimetype": "text/x-r-source",
   "name": "R",
   "pygments_lexer": "r",
   "version": "3.6.2"
  }
 },
 "nbformat": 4,
 "nbformat_minor": 4
}
