{
 "cells": [
  {
   "cell_type": "markdown",
   "metadata": {},
   "source": [
    "# Ändra i diagrammen\n",
    "Det finns en hel del ändringar som kan göras både i diagramskripten och i det theme() som man använder för att förändra utseendet på diagrammen. Här listas några av dem.\n",
    "## Radbrytning\n",
    "Texten i diagrammen har ingen automatisk radbrytning, men det går att göra en manuell radbrytning genom att lägga in  `\\n` i texten.\n",
    "## Axelrubriker\n",
    "Under rubriken `labs` går det att ändra på text i diagrammet, till exempel skriva in kolumnrubriker: `y=\"Axelrubrik (enhet)\"`.\n",
    "## Skalstreck\n",
    "Skalstrecken går att ställa in. Lägg till `scale_y_continuous()` före raden `theme_siren()`\n",
    "I scale_y_continuous går det att till exempel begränsa y-axeln genom limits eller ge skalstrecken exakta värden:\n",
    "\n",
    "`scale_y_continuous(limits=c(0,100), breaks=c(0,20,40,60,80,100)) +` \n",
    "\n",
    "Det går också bra att ange bara hur stora avstånden mellan skalstrecken ska vara:\n",
    "\n",
    "`scale_y_continuous(limits=c(0,100), breaks=seq(0,100, by=20)) +`\n",
    "\n",
    "\n",
    "## Ändra ordning på kolumner\n",
    "* För att få staplar i bokstavsordning: `x=reorder(Kommun, desc(Kommun))`\n",
    "* Staplar efter högsta till lägsta värde: `x=reorder(Kommun, desc(Värde))`\n",
    "* Från lägsta till högsta värde: `x=reorder(Kommun, Värde)`\n",
    "\n",
    "## Ta bort saknade värden\n",
    "Lägg till `%>% drop_na() %>% ` som ett extra filter för datan."
   ]
  }
 ],
 "metadata": {
  "kernelspec": {
   "display_name": "R",
   "language": "R",
   "name": "ir"
  },
  "language_info": {
   "codemirror_mode": "r",
   "file_extension": ".r",
   "mimetype": "text/x-r-source",
   "name": "R",
   "pygments_lexer": "r",
   "version": "3.6.2"
  }
 },
 "nbformat": 4,
 "nbformat_minor": 4
}
