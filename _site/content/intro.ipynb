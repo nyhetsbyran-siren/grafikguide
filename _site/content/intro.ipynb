{
 "cells": [
  {
   "cell_type": "markdown",
   "metadata": {},
   "source": [
    "# Om guiden\n",
    "\n",
    "Den här instruktionen är skriven för Sirens redaktion, och kommer att uppdateras då och då med fler diagram och funktioner.\n",
    "\n",
    "Med inspiration från BBC:s grafikguide [R Cookbook](https://bbc.github.io/rcookbook/) och deras [artikel](https://medium.com/bbc-visual-and-data-journalism/how-the-bbc-visual-and-data-journalism-team-works-with-graphics-in-r-ed0b35693535) om hur de gör grafik i R.\n",
    "\n",
    "[R](https://cran.r-project.org/) är gratis och open source. \n",
    "\n",
    "![stapeldiagram](images/collage.png)\n",
    "\n"
   ]
  },
  {
   "cell_type": "code",
   "execution_count": null,
   "metadata": {},
   "outputs": [],
   "source": []
  }
 ],
 "metadata": {
  "kernelspec": {
   "display_name": "R",
   "language": "R",
   "name": "ir"
  },
  "language_info": {
   "codemirror_mode": "r",
   "file_extension": ".r",
   "mimetype": "text/x-r-source",
   "name": "R",
   "pygments_lexer": "r",
   "version": "3.6.2"
  }
 },
 "nbformat": 4,
 "nbformat_minor": 4
}
