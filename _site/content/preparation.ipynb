{
 "cells": [
  {
   "cell_type": "markdown",
   "metadata": {},
   "source": [
    "# Förberedelser\n",
    "\n",
    "## Installera R\n",
    "Installera [R](https://cran.r-project.org/) på datorn. \n",
    "\n",
    "## Organisera filer\n",
    "En enkel mappstruktur gör det enkelt att hålla ordning:\n",
    "* **R**\n",
    "    * **raw_data** (här läggs Excelfilen med data in)\n",
    "    * **output_data** (här hamnar nedladdade diagrambilder)\n",
    "    * **scripts** (här läggs alla skript)\n",
    "\n",
    "## Förberedelseskript\n",
    "För att diagramskripten inte ska bli för stora, har vi ett förberedelseskript som vi kör före diagramskripten. I det här \"prep-skriptet\" finns alla paket som behöver hämtas och theme_siren() finns definierat med alla typsnitt, marginaler, inställningar och färger som vi använder.\n",
    "\n",
    "### Theme\n",
    "Det finns flera sätt att styra över utseendet på diagrammen i ggplot2. Vissa saker skrivs in i själva koden för diagrammet, men man kan också använda ett **theme**. Det finns flera färdiga theme i ggplot2, till exempel:\n",
    "\n",
    "`theme_bw()` `theme_minimal()` `theme_dark()` `theme_classic()`\n",
    "\n",
    "Ytterligare themes finns i paketet `ggtheme`, för den som kanske vill göra diagram i Economist- eller Tuftestil:\n",
    "\n",
    "`theme_economist()` `theme_tufte()`\n",
    "\n",
    "Vill man detaljstyra diagrammets utseende går det att göra ett helt eget theme. För Siren har jag gjort `theme_siren()` med de typsnitt, marginaler och färger som vi brukar använda.\n",
    "\n",
    "### Paket\n",
    "Det här är de så kallade \"paket\" som vi använder för att göra diagram. De måste installeras en gång och sedan hämtas på nytt varje gång R startas.\n",
    "```\n",
    "install.packages(\"tidyr\")\n",
    "install.packages(\"dplyr\")\n",
    "install.packages(\"openxlsx\")\n",
    "install.packages(\"readxl\")\n",
    "install.packages(\"ggplot2\", dependencies=TRUE)\n",
    "install.packages(\"here\")\n",
    "install.packages(\"reshape2\")\n",
    "\n",
    "library(reshape2)\n",
    "library(here)\n",
    "library(tidyr)\n",
    "library(dplyr)\n",
    "library(openxlsx)\n",
    "library(readxl)\n",
    "library(ggplot2)\n",
    "```\n",
    "\n",
    "### Färgpaletter\n",
    "I diagramskripten går det att anropa \"paletter\" med fördefinierade färger, istället för att varje gång skriva in exakt färgkod. Vi har lagt alla färgpaletter i förberedelseskriptet, vilket kan se ut så här: `palett1 <- c(\"#dc282c\", \"#f9b92b\")`"
   ]
  },
  {
   "cell_type": "code",
   "execution_count": null,
   "metadata": {},
   "outputs": [],
   "source": []
  }
 ],
 "metadata": {
  "kernelspec": {
   "display_name": "R",
   "language": "R",
   "name": "ir"
  },
  "language_info": {
   "codemirror_mode": "r",
   "file_extension": ".r",
   "mimetype": "text/x-r-source",
   "name": "R",
   "pygments_lexer": "r",
   "version": "3.6.2"
  }
 },
 "nbformat": 4,
 "nbformat_minor": 4
}
